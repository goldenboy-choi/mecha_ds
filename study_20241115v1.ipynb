{
 "cells": [
  {
   "cell_type": "code",
   "execution_count": 1,
   "id": "36646464",
   "metadata": {},
   "outputs": [],
   "source": [
    "import pandas as pd\n",
    "import numpy as np"
   ]
  },
  {
   "cell_type": "code",
   "execution_count": 2,
   "id": "d1736d7e",
   "metadata": {},
   "outputs": [],
   "source": [
    "# 2024년 11월 15월 학습조직 3주차\n",
    "# 참석 : 6명\n"
   ]
  },
  {
   "cell_type": "code",
   "execution_count": 14,
   "id": "4810a730",
   "metadata": {},
   "outputs": [
    {
     "name": "stdout",
     "output_type": "stream",
     "text": [
      "3주차 교육 입니다.\n"
     ]
    }
   ],
   "source": [
    "# 주석 처리 방법\n",
    "# 1. 행으로 하는 방법 : 최좌측에 '#' 처리 (단축키 : ctl + '/')\n",
    "# 2. 여러행 한번에 입력 :  \"\"\" 여기에 코트 입력 \"\"\" (단축키 : 주석할 대상 잡고 ctl + '/')\n",
    "\"\"\"\"\n",
    "3주차 학습조직을 시작합니다.\n",
    "감사합니다.\n",
    "여기는 주석입니다.\n",
    "\"\"\"\n",
    "\n",
    "# 화면에서 출력 하는 방법 # print\n",
    "print('3주차 교육 입니다.')"
   ]
  },
  {
   "cell_type": "code",
   "execution_count": 15,
   "id": "73600758",
   "metadata": {},
   "outputs": [],
   "source": [
    "# 데이터 타입\n",
    "# 1. 문자형 : '' 붙인다.\n",
    "a = '최강석'\n",
    "# 2. 수치형 : '' 없이 바로 숫자를 붙인다.\n",
    "b = 10"
   ]
  },
  {
   "cell_type": "code",
   "execution_count": 16,
   "id": "0e3c3485",
   "metadata": {},
   "outputs": [
    {
     "data": {
      "text/plain": [
       "['최강석', '임도한', '박기태']"
      ]
     },
     "execution_count": 16,
     "metadata": {},
     "output_type": "execute_result"
    }
   ],
   "source": [
    "# 1. 배열 (매우 중요)\n",
    "# 기본 구조 list = []\n",
    "student = [] # 초기화 및 배열 선언\n",
    "\n",
    "student.append('최강석')\n",
    "student.append('임도한')\n",
    "student.append('박기태')\n",
    "\n",
    "student\n",
    "\n",
    "# 데이터 삭제하는 방법 student.remove('최강석')\n"
   ]
  },
  {
   "cell_type": "code",
   "execution_count": 17,
   "id": "7f14998e",
   "metadata": {},
   "outputs": [
    {
     "data": {
      "text/plain": [
       "{'최강석': 45, '홍길동': 46, '임꺽정': 47}"
      ]
     },
     "execution_count": 17,
     "metadata": {},
     "output_type": "execute_result"
    }
   ],
   "source": [
    "# 2. 튜플 (배열과 비슷하나, 수정이 안된다)\n",
    "# 기본 구조 tuple = ()\n",
    "\n",
    "# 3. 딕셔너리 (매우 중요)\n",
    "# 기본 구조 dic = {}\n",
    "dic = {} # 초기화 및 선언\n",
    "dic['최강석'] = 45\n",
    "dic['홍길동'] = 46\n",
    "dic['임꺽정'] = 47\n",
    "dic"
   ]
  },
  {
   "cell_type": "code",
   "execution_count": 12,
   "id": "a69bb3da",
   "metadata": {},
   "outputs": [
    {
     "name": "stdout",
     "output_type": "stream",
     "text": [
      "0\n",
      "1\n",
      "2\n",
      "3\n",
      "4\n",
      "5\n",
      "6\n",
      "7\n",
      "8\n",
      "9\n",
      "10\n",
      "11\n",
      "12\n",
      "13\n",
      "14\n",
      "15\n",
      "16\n",
      "17\n",
      "18\n",
      "19\n",
      "20\n",
      "21\n",
      "22\n",
      "23\n",
      "24\n",
      "25\n",
      "26\n",
      "27\n",
      "28\n",
      "29\n",
      "30\n",
      "31\n",
      "32\n",
      "33\n",
      "34\n",
      "35\n",
      "36\n",
      "37\n",
      "38\n",
      "39\n",
      "40\n",
      "41\n",
      "42\n",
      "43\n",
      "44\n",
      "45\n",
      "46\n",
      "47\n",
      "48\n",
      "49\n",
      "50\n",
      "51\n",
      "52\n",
      "53\n",
      "54\n",
      "55\n",
      "56\n",
      "57\n",
      "58\n",
      "59\n",
      "60\n",
      "61\n",
      "62\n",
      "63\n",
      "64\n",
      "65\n",
      "66\n",
      "67\n",
      "68\n",
      "69\n",
      "70\n",
      "71\n",
      "72\n",
      "73\n",
      "74\n",
      "75\n",
      "76\n",
      "77\n",
      "78\n",
      "79\n",
      "80\n",
      "81\n",
      "82\n",
      "83\n",
      "84\n",
      "85\n",
      "86\n",
      "87\n",
      "88\n",
      "89\n",
      "90\n",
      "91\n",
      "92\n",
      "93\n",
      "94\n",
      "95\n",
      "96\n",
      "97\n",
      "98\n",
      "99\n",
      "임도한\n",
      "최강석\n",
      "박기태\n",
      "윤재훈\n",
      "이병준\n",
      "김문수\n"
     ]
    }
   ],
   "source": [
    "# 반복문\n",
    "# 주의사항\n",
    "# 1. for문 마지막에 : 누락 안되도록 주의\n",
    "# 2. for문 안에서 들여쓰기(tab) 규칙 지킬 것\n",
    "\n",
    "# 사례1 : 숫자 돌릴때 (0에서 99 까지)\n",
    "for i in range (0,100,1) :\n",
    "    print(i)\n",
    "\n",
    "# 사례2: 1에서 100까지 숫자를 더할 것\n",
    "sum_1_100 = 0 # 초기화\n",
    "for i in range (1,1001,1) :\n",
    "    sum_1_100 = sum_1_100 + i\n",
    "sum_1_100 # 1부터 100까지 더합 값\n",
    "\n",
    "# 사례 3 : 배열의 값을 for문으로 \n",
    "names = ['임도한','최강석','박기태','윤재훈','이병준','김문수'] # 6명을 names라는 배열(리스트)에  담는다\n",
    "\n",
    "# for문으로 한명씩 호출 한다.\n",
    "for name in names :\n",
    "    print(name)\n",
    "\n"
   ]
  },
  {
   "cell_type": "code",
   "execution_count": 13,
   "id": "76f0b448",
   "metadata": {},
   "outputs": [
    {
     "name": "stdout",
     "output_type": "stream",
     "text": [
      "임도한 반가워요\n",
      "최강석 싫어요\n",
      "박기태 감사해요\n",
      "윤재훈 감사해요\n",
      "이병준 감사해요\n",
      "김문수 감사해요\n"
     ]
    }
   ],
   "source": [
    "# 조건문\n",
    "# 주의사항\n",
    "# 1. if문 마지막에 : 누락 안되도록 주의 (elif, else 도 주의)\n",
    "# 2. if문 안에서 들여쓰기(tab) 규칙 지킬 것\n",
    "\n",
    "for name in names : # 반복문 \n",
    "    \n",
    "    if name == '임도한' : # 조건문\n",
    "        \n",
    "        print(name,'반가워요')\n",
    "        \n",
    "    elif name == '최강석' :\n",
    "        \n",
    "        print(name,'싫어요')\n",
    "    \n",
    "    else :\n",
    "        print(name,'감사해요')"
   ]
  },
  {
   "cell_type": "code",
   "execution_count": null,
   "id": "e57d7096",
   "metadata": {},
   "outputs": [],
   "source": []
  },
  {
   "cell_type": "code",
   "execution_count": null,
   "id": "3dcda1ee",
   "metadata": {},
   "outputs": [],
   "source": []
  },
  {
   "cell_type": "code",
   "execution_count": null,
   "id": "b1193be1",
   "metadata": {},
   "outputs": [],
   "source": []
  },
  {
   "cell_type": "code",
   "execution_count": null,
   "id": "6d4e5d33",
   "metadata": {},
   "outputs": [],
   "source": []
  },
  {
   "cell_type": "code",
   "execution_count": null,
   "id": "1e459670",
   "metadata": {},
   "outputs": [],
   "source": []
  },
  {
   "cell_type": "code",
   "execution_count": null,
   "id": "858edef8",
   "metadata": {},
   "outputs": [],
   "source": []
  }
 ],
 "metadata": {
  "kernelspec": {
   "display_name": "Python 3",
   "language": "python",
   "name": "python3"
  },
  "language_info": {
   "codemirror_mode": {
    "name": "ipython",
    "version": 3
   },
   "file_extension": ".py",
   "mimetype": "text/x-python",
   "name": "python",
   "nbconvert_exporter": "python",
   "pygments_lexer": "ipython3",
   "version": "3.11.2"
  }
 },
 "nbformat": 4,
 "nbformat_minor": 5
}
